{
 "cells": [
  {
   "cell_type": "code",
   "execution_count": null,
   "metadata": {},
   "outputs": [],
   "source": [
    "import pandas as pd\n",
    "from sqlalchemy import create_engine\n",
    "from sqlalchemy.engine.url import URL\n",
    "\n",
    "\n",
    "# sqlalchemy engine\n",
    "engine = create_engine(URL(\n",
    "    drivername=\"mysql\"\n",
    "    username=\"root\",\n",
    "    password=\"d4t4B4$3*\"\n",
    "    host=\"xiencias.com\"\n",
    "    database=\"capital\"\n",
    "))\n",
    "\n",
    "conn = engine.connect()\n",
    "\n",
    "generator_df = pd.read_sql(sql=query,  # mysql query\n",
    "                           con=conn,\n",
    "                           chunksize=chunksize)  # size you want to fetch each time\n",
    "\n",
    "for dataframe in generator_df:\n",
    "    for row in dataframe:\n",
    "        pass  # whatever you want to do"
   ]
  }
 ],
 "metadata": {
  "kernelspec": {
   "display_name": "Python 3",
   "language": "python",
   "name": "python3"
  },
  "language_info": {
   "codemirror_mode": {
    "name": "ipython",
    "version": 3
   },
   "file_extension": ".py",
   "mimetype": "text/x-python",
   "name": "python",
   "nbconvert_exporter": "python",
   "pygments_lexer": "ipython3",
   "version": "3.6.5"
  }
 },
 "nbformat": 4,
 "nbformat_minor": 2
}

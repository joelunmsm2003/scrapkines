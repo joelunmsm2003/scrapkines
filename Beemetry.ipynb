{
 "cells": [
  {
   "cell_type": "code",
   "execution_count": 111,
   "metadata": {},
   "outputs": [],
   "source": [
    "import matplotlib.pyplot as plt\n",
    "import seaborn as sns\n"
   ]
  },
  {
   "cell_type": "code",
   "execution_count": 112,
   "metadata": {},
   "outputs": [],
   "source": [
    "import pandas as pd"
   ]
  },
  {
   "cell_type": "code",
   "execution_count": 113,
   "metadata": {},
   "outputs": [],
   "source": [
    "df = pd.read_csv('bee.csv')"
   ]
  },
  {
   "cell_type": "code",
   "execution_count": 114,
   "metadata": {},
   "outputs": [
    {
     "data": {
      "text/html": [
       "<div>\n",
       "<style scoped>\n",
       "    .dataframe tbody tr th:only-of-type {\n",
       "        vertical-align: middle;\n",
       "    }\n",
       "\n",
       "    .dataframe tbody tr th {\n",
       "        vertical-align: top;\n",
       "    }\n",
       "\n",
       "    .dataframe thead th {\n",
       "        text-align: right;\n",
       "    }\n",
       "</style>\n",
       "<table border=\"1\" class=\"dataframe\">\n",
       "  <thead>\n",
       "    <tr style=\"text-align: right;\">\n",
       "      <th></th>\n",
       "      <th>Timestamp</th>\n",
       "      <th>Temperature</th>\n",
       "      <th>Humidity</th>\n",
       "    </tr>\n",
       "  </thead>\n",
       "  <tbody>\n",
       "    <tr>\n",
       "      <th>0</th>\n",
       "      <td>2019/10/27 18:40:35</td>\n",
       "      <td>-24.8</td>\n",
       "      <td>5.0</td>\n",
       "    </tr>\n",
       "    <tr>\n",
       "      <th>1</th>\n",
       "      <td>2019/10/27 18:40:34</td>\n",
       "      <td>-28.9</td>\n",
       "      <td>7.2</td>\n",
       "    </tr>\n",
       "    <tr>\n",
       "      <th>2</th>\n",
       "      <td>2019/10/27 18:40:33</td>\n",
       "      <td>-20.4</td>\n",
       "      <td>5.0</td>\n",
       "    </tr>\n",
       "    <tr>\n",
       "      <th>3</th>\n",
       "      <td>2019/10/27 18:40:32</td>\n",
       "      <td>-11.7</td>\n",
       "      <td>5.0</td>\n",
       "    </tr>\n",
       "    <tr>\n",
       "      <th>4</th>\n",
       "      <td>2019/10/27 18:40:31</td>\n",
       "      <td>2.7</td>\n",
       "      <td>5.5</td>\n",
       "    </tr>\n",
       "  </tbody>\n",
       "</table>\n",
       "</div>"
      ],
      "text/plain": [
       "             Timestamp  Temperature  Humidity\n",
       "0  2019/10/27 18:40:35        -24.8       5.0\n",
       "1  2019/10/27 18:40:34        -28.9       7.2\n",
       "2  2019/10/27 18:40:33        -20.4       5.0\n",
       "3  2019/10/27 18:40:32        -11.7       5.0\n",
       "4  2019/10/27 18:40:31          2.7       5.5"
      ]
     },
     "execution_count": 114,
     "metadata": {},
     "output_type": "execute_result"
    }
   ],
   "source": [
    "df.head()"
   ]
  },
  {
   "cell_type": "code",
   "execution_count": 115,
   "metadata": {},
   "outputs": [],
   "source": [
    "df['Timestamp']=pd.to_datetime(df['Timestamp'])"
   ]
  },
  {
   "cell_type": "code",
   "execution_count": 116,
   "metadata": {},
   "outputs": [
    {
     "data": {
      "text/plain": [
       "Timestamp      datetime64[ns]\n",
       "Temperature           float64\n",
       "Humidity              float64\n",
       "dtype: object"
      ]
     },
     "execution_count": 116,
     "metadata": {},
     "output_type": "execute_result"
    }
   ],
   "source": [
    "df.dtypes"
   ]
  },
  {
   "cell_type": "code",
   "execution_count": 117,
   "metadata": {},
   "outputs": [],
   "source": [
    "df=df.set_index('Timestamp')"
   ]
  },
  {
   "cell_type": "code",
   "execution_count": 118,
   "metadata": {},
   "outputs": [
    {
     "data": {
      "text/html": [
       "<div>\n",
       "<style scoped>\n",
       "    .dataframe tbody tr th:only-of-type {\n",
       "        vertical-align: middle;\n",
       "    }\n",
       "\n",
       "    .dataframe tbody tr th {\n",
       "        vertical-align: top;\n",
       "    }\n",
       "\n",
       "    .dataframe thead th {\n",
       "        text-align: right;\n",
       "    }\n",
       "</style>\n",
       "<table border=\"1\" class=\"dataframe\">\n",
       "  <thead>\n",
       "    <tr style=\"text-align: right;\">\n",
       "      <th></th>\n",
       "      <th>Temperature</th>\n",
       "      <th>Humidity</th>\n",
       "    </tr>\n",
       "    <tr>\n",
       "      <th>Timestamp</th>\n",
       "      <th></th>\n",
       "      <th></th>\n",
       "    </tr>\n",
       "  </thead>\n",
       "  <tbody>\n",
       "    <tr>\n",
       "      <th>2019-10-27 18:37:16</th>\n",
       "      <td>-15.7</td>\n",
       "      <td>19.2</td>\n",
       "    </tr>\n",
       "  </tbody>\n",
       "</table>\n",
       "</div>"
      ],
      "text/plain": [
       "                     Temperature  Humidity\n",
       "Timestamp                                 \n",
       "2019-10-27 18:37:16        -15.7      19.2"
      ]
     },
     "execution_count": 118,
     "metadata": {},
     "output_type": "execute_result"
    }
   ],
   "source": [
    "df.loc['2019-10-27 18:37:16']\n"
   ]
  },
  {
   "cell_type": "code",
   "execution_count": 119,
   "metadata": {},
   "outputs": [
    {
     "data": {
      "text/html": [
       "<div>\n",
       "<style scoped>\n",
       "    .dataframe tbody tr th:only-of-type {\n",
       "        vertical-align: middle;\n",
       "    }\n",
       "\n",
       "    .dataframe tbody tr th {\n",
       "        vertical-align: top;\n",
       "    }\n",
       "\n",
       "    .dataframe thead th {\n",
       "        text-align: right;\n",
       "    }\n",
       "</style>\n",
       "<table border=\"1\" class=\"dataframe\">\n",
       "  <thead>\n",
       "    <tr style=\"text-align: right;\">\n",
       "      <th></th>\n",
       "      <th>Temperature</th>\n",
       "      <th>Humidity</th>\n",
       "    </tr>\n",
       "    <tr>\n",
       "      <th>Timestamp</th>\n",
       "      <th></th>\n",
       "      <th></th>\n",
       "    </tr>\n",
       "  </thead>\n",
       "  <tbody>\n",
       "    <tr>\n",
       "      <th>2019-10-27 18:40:35</th>\n",
       "      <td>-24.8</td>\n",
       "      <td>5.0</td>\n",
       "    </tr>\n",
       "    <tr>\n",
       "      <th>2019-10-27 18:40:34</th>\n",
       "      <td>-28.9</td>\n",
       "      <td>7.2</td>\n",
       "    </tr>\n",
       "    <tr>\n",
       "      <th>2019-10-27 18:40:33</th>\n",
       "      <td>-20.4</td>\n",
       "      <td>5.0</td>\n",
       "    </tr>\n",
       "  </tbody>\n",
       "</table>\n",
       "</div>"
      ],
      "text/plain": [
       "                     Temperature  Humidity\n",
       "Timestamp                                 \n",
       "2019-10-27 18:40:35        -24.8       5.0\n",
       "2019-10-27 18:40:34        -28.9       7.2\n",
       "2019-10-27 18:40:33        -20.4       5.0"
      ]
     },
     "execution_count": 119,
     "metadata": {},
     "output_type": "execute_result"
    }
   ],
   "source": [
    "df.head(3)"
   ]
  },
  {
   "cell_type": "code",
   "execution_count": 120,
   "metadata": {},
   "outputs": [
    {
     "data": {
      "text/plain": [
       "Temperature    float64\n",
       "Humidity       float64\n",
       "dtype: object"
      ]
     },
     "execution_count": 120,
     "metadata": {},
     "output_type": "execute_result"
    }
   ],
   "source": [
    "df.dtypes"
   ]
  },
  {
   "cell_type": "code",
   "execution_count": 121,
   "metadata": {},
   "outputs": [
    {
     "data": {
      "text/plain": [
       "<matplotlib.axes._subplots.AxesSubplot at 0x7ff366437c50>"
      ]
     },
     "execution_count": 121,
     "metadata": {},
     "output_type": "execute_result"
    },
    {
     "data": {
      "image/png": "[encoded data removed]",
      "text/plain": [
       "<Figure size 792x288 with 1 Axes>"
      ]
     },
     "metadata": {},
     "output_type": "display_data"
    }
   ],
   "source": [
    "df.plot()"
   ]
  },
  {
   "cell_type": "code",
   "execution_count": 122,
   "metadata": {},
   "outputs": [
    {
     "data": {
      "text/plain": [
       "Temperature    float64\n",
       "Humidity       float64\n",
       "dtype: object"
      ]
     },
     "execution_count": 122,
     "metadata": {},
     "output_type": "execute_result"
    }
   ],
   "source": [
    "df.dtypes"
   ]
  },
  {
   "cell_type": "code",
   "execution_count": 123,
   "metadata": {},
   "outputs": [
    {
     "data": {
      "text/plain": [
       "DatetimeIndex(['2019-10-27 18:40:35', '2019-10-27 18:40:34',\n",
       "               '2019-10-27 18:40:33', '2019-10-27 18:40:32',\n",
       "               '2019-10-27 18:40:31', '2019-10-27 18:40:30',\n",
       "               '2019-10-27 18:40:29', '2019-10-27 18:40:28',\n",
       "               '2019-10-27 18:40:27', '2019-10-27 18:40:26',\n",
       "               ...\n",
       "               '2019-10-27 18:37:25', '2019-10-27 18:37:24',\n",
       "               '2019-10-27 18:37:23', '2019-10-27 18:37:22',\n",
       "               '2019-10-27 18:37:21', '2019-10-27 18:37:20',\n",
       "               '2019-10-27 18:37:19', '2019-10-27 18:37:18',\n",
       "               '2019-10-27 18:37:17', '2019-10-27 18:37:16'],\n",
       "              dtype='datetime64[ns]', name=u'Timestamp', length=200, freq=None)"
      ]
     },
     "execution_count": 123,
     "metadata": {},
     "output_type": "execute_result"
    }
   ],
   "source": [
    "df.index"
   ]
  },
  {
   "cell_type": "code",
   "execution_count": 134,
   "metadata": {},
   "outputs": [
    {
     "data": {
      "text/html": [
       "<div>\n",
       "<style scoped>\n",
       "    .dataframe tbody tr th:only-of-type {\n",
       "        vertical-align: middle;\n",
       "    }\n",
       "\n",
       "    .dataframe tbody tr th {\n",
       "        vertical-align: top;\n",
       "    }\n",
       "\n",
       "    .dataframe thead th {\n",
       "        text-align: right;\n",
       "    }\n",
       "</style>\n",
       "<table border=\"1\" class=\"dataframe\">\n",
       "  <thead>\n",
       "    <tr style=\"text-align: right;\">\n",
       "      <th></th>\n",
       "      <th>Temperature</th>\n",
       "      <th>Humidity</th>\n",
       "    </tr>\n",
       "    <tr>\n",
       "      <th>Timestamp</th>\n",
       "      <th></th>\n",
       "      <th></th>\n",
       "    </tr>\n",
       "  </thead>\n",
       "  <tbody>\n",
       "    <tr>\n",
       "      <th>2019-10-27 18:40:35</th>\n",
       "      <td>-24.8</td>\n",
       "      <td>5.0</td>\n",
       "    </tr>\n",
       "    <tr>\n",
       "      <th>2019-10-27 18:40:34</th>\n",
       "      <td>-28.9</td>\n",
       "      <td>7.2</td>\n",
       "    </tr>\n",
       "    <tr>\n",
       "      <th>2019-10-27 18:40:33</th>\n",
       "      <td>-20.4</td>\n",
       "      <td>5.0</td>\n",
       "    </tr>\n",
       "    <tr>\n",
       "      <th>2019-10-27 18:40:32</th>\n",
       "      <td>-11.7</td>\n",
       "      <td>5.0</td>\n",
       "    </tr>\n",
       "    <tr>\n",
       "      <th>2019-10-27 18:40:31</th>\n",
       "      <td>2.7</td>\n",
       "      <td>5.5</td>\n",
       "    </tr>\n",
       "    <tr>\n",
       "      <th>2019-10-27 18:40:30</th>\n",
       "      <td>10.5</td>\n",
       "      <td>5.0</td>\n",
       "    </tr>\n",
       "    <tr>\n",
       "      <th>2019-10-27 18:40:29</th>\n",
       "      <td>21.4</td>\n",
       "      <td>5.0</td>\n",
       "    </tr>\n",
       "    <tr>\n",
       "      <th>2019-10-27 18:40:28</th>\n",
       "      <td>14.3</td>\n",
       "      <td>10.9</td>\n",
       "    </tr>\n",
       "    <tr>\n",
       "      <th>2019-10-27 18:40:27</th>\n",
       "      <td>17.5</td>\n",
       "      <td>7.4</td>\n",
       "    </tr>\n",
       "    <tr>\n",
       "      <th>2019-10-27 18:40:26</th>\n",
       "      <td>34.5</td>\n",
       "      <td>13.2</td>\n",
       "    </tr>\n",
       "    <tr>\n",
       "      <th>2019-10-27 18:40:25</th>\n",
       "      <td>15.6</td>\n",
       "      <td>6.4</td>\n",
       "    </tr>\n",
       "    <tr>\n",
       "      <th>2019-10-27 18:40:24</th>\n",
       "      <td>29.3</td>\n",
       "      <td>5.0</td>\n",
       "    </tr>\n",
       "    <tr>\n",
       "      <th>2019-10-27 18:40:23</th>\n",
       "      <td>9.4</td>\n",
       "      <td>12.4</td>\n",
       "    </tr>\n",
       "    <tr>\n",
       "      <th>2019-10-27 18:40:22</th>\n",
       "      <td>8.9</td>\n",
       "      <td>11.9</td>\n",
       "    </tr>\n",
       "    <tr>\n",
       "      <th>2019-10-27 18:40:21</th>\n",
       "      <td>4.8</td>\n",
       "      <td>5.0</td>\n",
       "    </tr>\n",
       "    <tr>\n",
       "      <th>2019-10-27 18:40:20</th>\n",
       "      <td>1.0</td>\n",
       "      <td>5.7</td>\n",
       "    </tr>\n",
       "    <tr>\n",
       "      <th>2019-10-27 18:40:19</th>\n",
       "      <td>-3.8</td>\n",
       "      <td>15.3</td>\n",
       "    </tr>\n",
       "    <tr>\n",
       "      <th>2019-10-27 18:40:18</th>\n",
       "      <td>-0.7</td>\n",
       "      <td>5.6</td>\n",
       "    </tr>\n",
       "    <tr>\n",
       "      <th>2019-10-27 18:40:17</th>\n",
       "      <td>-12.5</td>\n",
       "      <td>11.3</td>\n",
       "    </tr>\n",
       "    <tr>\n",
       "      <th>2019-10-27 18:40:16</th>\n",
       "      <td>3.2</td>\n",
       "      <td>15.7</td>\n",
       "    </tr>\n",
       "    <tr>\n",
       "      <th>2019-10-27 18:40:15</th>\n",
       "      <td>2.1</td>\n",
       "      <td>6.1</td>\n",
       "    </tr>\n",
       "    <tr>\n",
       "      <th>2019-10-27 18:40:14</th>\n",
       "      <td>21.3</td>\n",
       "      <td>5.0</td>\n",
       "    </tr>\n",
       "    <tr>\n",
       "      <th>2019-10-27 18:40:13</th>\n",
       "      <td>12.3</td>\n",
       "      <td>5.0</td>\n",
       "    </tr>\n",
       "    <tr>\n",
       "      <th>2019-10-27 18:40:12</th>\n",
       "      <td>21.9</td>\n",
       "      <td>7.2</td>\n",
       "    </tr>\n",
       "    <tr>\n",
       "      <th>2019-10-27 18:40:11</th>\n",
       "      <td>18.1</td>\n",
       "      <td>16.6</td>\n",
       "    </tr>\n",
       "    <tr>\n",
       "      <th>2019-10-27 18:40:10</th>\n",
       "      <td>8.6</td>\n",
       "      <td>17.0</td>\n",
       "    </tr>\n",
       "    <tr>\n",
       "      <th>2019-10-27 18:40:09</th>\n",
       "      <td>4.6</td>\n",
       "      <td>23.5</td>\n",
       "    </tr>\n",
       "    <tr>\n",
       "      <th>2019-10-27 18:40:08</th>\n",
       "      <td>10.4</td>\n",
       "      <td>20.0</td>\n",
       "    </tr>\n",
       "    <tr>\n",
       "      <th>2019-10-27 18:40:07</th>\n",
       "      <td>4.9</td>\n",
       "      <td>24.9</td>\n",
       "    </tr>\n",
       "    <tr>\n",
       "      <th>2019-10-27 18:40:06</th>\n",
       "      <td>14.4</td>\n",
       "      <td>28.2</td>\n",
       "    </tr>\n",
       "    <tr>\n",
       "      <th>...</th>\n",
       "      <td>...</td>\n",
       "      <td>...</td>\n",
       "    </tr>\n",
       "    <tr>\n",
       "      <th>2019-10-27 18:37:45</th>\n",
       "      <td>14.8</td>\n",
       "      <td>76.0</td>\n",
       "    </tr>\n",
       "    <tr>\n",
       "      <th>2019-10-27 18:37:44</th>\n",
       "      <td>28.5</td>\n",
       "      <td>79.7</td>\n",
       "    </tr>\n",
       "    <tr>\n",
       "      <th>2019-10-27 18:37:43</th>\n",
       "      <td>42.8</td>\n",
       "      <td>80.3</td>\n",
       "    </tr>\n",
       "    <tr>\n",
       "      <th>2019-10-27 18:37:42</th>\n",
       "      <td>38.4</td>\n",
       "      <td>88.2</td>\n",
       "    </tr>\n",
       "    <tr>\n",
       "      <th>2019-10-27 18:37:41</th>\n",
       "      <td>27.0</td>\n",
       "      <td>93.0</td>\n",
       "    </tr>\n",
       "    <tr>\n",
       "      <th>2019-10-27 18:37:40</th>\n",
       "      <td>35.5</td>\n",
       "      <td>84.6</td>\n",
       "    </tr>\n",
       "    <tr>\n",
       "      <th>2019-10-27 18:37:39</th>\n",
       "      <td>18.8</td>\n",
       "      <td>86.0</td>\n",
       "    </tr>\n",
       "    <tr>\n",
       "      <th>2019-10-27 18:37:38</th>\n",
       "      <td>3.1</td>\n",
       "      <td>82.7</td>\n",
       "    </tr>\n",
       "    <tr>\n",
       "      <th>2019-10-27 18:37:37</th>\n",
       "      <td>15.3</td>\n",
       "      <td>82.3</td>\n",
       "    </tr>\n",
       "    <tr>\n",
       "      <th>2019-10-27 18:37:36</th>\n",
       "      <td>12.1</td>\n",
       "      <td>72.8</td>\n",
       "    </tr>\n",
       "    <tr>\n",
       "      <th>2019-10-27 18:37:35</th>\n",
       "      <td>-5.0</td>\n",
       "      <td>74.6</td>\n",
       "    </tr>\n",
       "    <tr>\n",
       "      <th>2019-10-27 18:37:34</th>\n",
       "      <td>-10.5</td>\n",
       "      <td>66.3</td>\n",
       "    </tr>\n",
       "    <tr>\n",
       "      <th>2019-10-27 18:37:33</th>\n",
       "      <td>-27.1</td>\n",
       "      <td>67.5</td>\n",
       "    </tr>\n",
       "    <tr>\n",
       "      <th>2019-10-27 18:37:32</th>\n",
       "      <td>-21.9</td>\n",
       "      <td>62.3</td>\n",
       "    </tr>\n",
       "    <tr>\n",
       "      <th>2019-10-27 18:37:31</th>\n",
       "      <td>-8.9</td>\n",
       "      <td>54.2</td>\n",
       "    </tr>\n",
       "    <tr>\n",
       "      <th>2019-10-27 18:37:30</th>\n",
       "      <td>-10.8</td>\n",
       "      <td>54.4</td>\n",
       "    </tr>\n",
       "    <tr>\n",
       "      <th>2019-10-27 18:37:29</th>\n",
       "      <td>-12.0</td>\n",
       "      <td>45.3</td>\n",
       "    </tr>\n",
       "    <tr>\n",
       "      <th>2019-10-27 18:37:28</th>\n",
       "      <td>-2.4</td>\n",
       "      <td>37.9</td>\n",
       "    </tr>\n",
       "    <tr>\n",
       "      <th>2019-10-27 18:37:27</th>\n",
       "      <td>-13.3</td>\n",
       "      <td>28.5</td>\n",
       "    </tr>\n",
       "    <tr>\n",
       "      <th>2019-10-27 18:37:26</th>\n",
       "      <td>-8.1</td>\n",
       "      <td>35.1</td>\n",
       "    </tr>\n",
       "    <tr>\n",
       "      <th>2019-10-27 18:37:25</th>\n",
       "      <td>-7.1</td>\n",
       "      <td>41.4</td>\n",
       "    </tr>\n",
       "    <tr>\n",
       "      <th>2019-10-27 18:37:24</th>\n",
       "      <td>-19.0</td>\n",
       "      <td>32.2</td>\n",
       "    </tr>\n",
       "    <tr>\n",
       "      <th>2019-10-27 18:37:23</th>\n",
       "      <td>-29.6</td>\n",
       "      <td>22.9</td>\n",
       "    </tr>\n",
       "    <tr>\n",
       "      <th>2019-10-27 18:37:22</th>\n",
       "      <td>-14.4</td>\n",
       "      <td>22.1</td>\n",
       "    </tr>\n",
       "    <tr>\n",
       "      <th>2019-10-27 18:37:21</th>\n",
       "      <td>-0.9</td>\n",
       "      <td>25.7</td>\n",
       "    </tr>\n",
       "    <tr>\n",
       "      <th>2019-10-27 18:37:20</th>\n",
       "      <td>-0.9</td>\n",
       "      <td>16.3</td>\n",
       "    </tr>\n",
       "    <tr>\n",
       "      <th>2019-10-27 18:37:19</th>\n",
       "      <td>-7.9</td>\n",
       "      <td>22.7</td>\n",
       "    </tr>\n",
       "    <tr>\n",
       "      <th>2019-10-27 18:37:18</th>\n",
       "      <td>-9.4</td>\n",
       "      <td>31.6</td>\n",
       "    </tr>\n",
       "    <tr>\n",
       "      <th>2019-10-27 18:37:17</th>\n",
       "      <td>-1.6</td>\n",
       "      <td>22.0</td>\n",
       "    </tr>\n",
       "    <tr>\n",
       "      <th>2019-10-27 18:37:16</th>\n",
       "      <td>-15.7</td>\n",
       "      <td>19.2</td>\n",
       "    </tr>\n",
       "  </tbody>\n",
       "</table>\n",
       "<p>200 rows × 2 columns</p>\n",
       "</div>"
      ],
      "text/plain": [
       "                     Temperature  Humidity\n",
       "Timestamp                                 \n",
       "2019-10-27 18:40:35        -24.8       5.0\n",
       "2019-10-27 18:40:34        -28.9       7.2\n",
       "2019-10-27 18:40:33        -20.4       5.0\n",
       "2019-10-27 18:40:32        -11.7       5.0\n",
       "2019-10-27 18:40:31          2.7       5.5\n",
       "2019-10-27 18:40:30         10.5       5.0\n",
       "2019-10-27 18:40:29         21.4       5.0\n",
       "2019-10-27 18:40:28         14.3      10.9\n",
       "2019-10-27 18:40:27         17.5       7.4\n",
       "2019-10-27 18:40:26         34.5      13.2\n",
       "2019-10-27 18:40:25         15.6       6.4\n",
       "2019-10-27 18:40:24         29.3       5.0\n",
       "2019-10-27 18:40:23          9.4      12.4\n",
       "2019-10-27 18:40:22          8.9      11.9\n",
       "2019-10-27 18:40:21          4.8       5.0\n",
       "2019-10-27 18:40:20          1.0       5.7\n",
       "2019-10-27 18:40:19         -3.8      15.3\n",
       "2019-10-27 18:40:18         -0.7       5.6\n",
       "2019-10-27 18:40:17        -12.5      11.3\n",
       "2019-10-27 18:40:16          3.2      15.7\n",
       "2019-10-27 18:40:15          2.1       6.1\n",
       "2019-10-27 18:40:14         21.3       5.0\n",
       "2019-10-27 18:40:13         12.3       5.0\n",
       "2019-10-27 18:40:12         21.9       7.2\n",
       "2019-10-27 18:40:11         18.1      16.6\n",
       "2019-10-27 18:40:10          8.6      17.0\n",
       "2019-10-27 18:40:09          4.6      23.5\n",
       "2019-10-27 18:40:08         10.4      20.0\n",
       "2019-10-27 18:40:07          4.9      24.9\n",
       "2019-10-27 18:40:06         14.4      28.2\n",
       "...                          ...       ...\n",
       "2019-10-27 18:37:45         14.8      76.0\n",
       "2019-10-27 18:37:44         28.5      79.7\n",
       "2019-10-27 18:37:43         42.8      80.3\n",
       "2019-10-27 18:37:42         38.4      88.2\n",
       "2019-10-27 18:37:41         27.0      93.0\n",
       "2019-10-27 18:37:40         35.5      84.6\n",
       "2019-10-27 18:37:39         18.8      86.0\n",
       "2019-10-27 18:37:38          3.1      82.7\n",
       "2019-10-27 18:37:37         15.3      82.3\n",
       "2019-10-27 18:37:36         12.1      72.8\n",
       "2019-10-27 18:37:35         -5.0      74.6\n",
       "2019-10-27 18:37:34        -10.5      66.3\n",
       "2019-10-27 18:37:33        -27.1      67.5\n",
       "2019-10-27 18:37:32        -21.9      62.3\n",
       "2019-10-27 18:37:31         -8.9      54.2\n",
       "2019-10-27 18:37:30        -10.8      54.4\n",
       "2019-10-27 18:37:29        -12.0      45.3\n",
       "2019-10-27 18:37:28         -2.4      37.9\n",
       "2019-10-27 18:37:27        -13.3      28.5\n",
       "2019-10-27 18:37:26         -8.1      35.1\n",
       "2019-10-27 18:37:25         -7.1      41.4\n",
       "2019-10-27 18:37:24        -19.0      32.2\n",
       "2019-10-27 18:37:23        -29.6      22.9\n",
       "2019-10-27 18:37:22        -14.4      22.1\n",
       "2019-10-27 18:37:21         -0.9      25.7\n",
       "2019-10-27 18:37:20         -0.9      16.3\n",
       "2019-10-27 18:37:19         -7.9      22.7\n",
       "2019-10-27 18:37:18         -9.4      31.6\n",
       "2019-10-27 18:37:17         -1.6      22.0\n",
       "2019-10-27 18:37:16        -15.7      19.2\n",
       "\n",
       "[200 rows x 2 columns]"
      ]
     },
     "execution_count": 134,
     "metadata": {},
     "output_type": "execute_result"
    }
   ],
   "source": [
    "df.loc['2019-10']"
   ]
  },
  {
   "cell_type": "code",
   "execution_count": 135,
   "metadata": {},
   "outputs": [
    {
     "data": {
      "text/html": [
       "<div>\n",
       "<style scoped>\n",
       "    .dataframe tbody tr th:only-of-type {\n",
       "        vertical-align: middle;\n",
       "    }\n",
       "\n",
       "    .dataframe tbody tr th {\n",
       "        vertical-align: top;\n",
       "    }\n",
       "\n",
       "    .dataframe thead th {\n",
       "        text-align: right;\n",
       "    }\n",
       "</style>\n",
       "<table border=\"1\" class=\"dataframe\">\n",
       "  <thead>\n",
       "    <tr style=\"text-align: right;\">\n",
       "      <th></th>\n",
       "      <th>Temperature</th>\n",
       "      <th>Humidity</th>\n",
       "    </tr>\n",
       "    <tr>\n",
       "      <th>Timestamp</th>\n",
       "      <th></th>\n",
       "      <th></th>\n",
       "    </tr>\n",
       "  </thead>\n",
       "  <tbody>\n",
       "    <tr>\n",
       "      <th>2019-10-27 18:40:35</th>\n",
       "      <td>-24.8</td>\n",
       "      <td>5.0</td>\n",
       "    </tr>\n",
       "    <tr>\n",
       "      <th>2019-10-27 18:40:34</th>\n",
       "      <td>-28.9</td>\n",
       "      <td>7.2</td>\n",
       "    </tr>\n",
       "    <tr>\n",
       "      <th>2019-10-27 18:40:33</th>\n",
       "      <td>-20.4</td>\n",
       "      <td>5.0</td>\n",
       "    </tr>\n",
       "    <tr>\n",
       "      <th>2019-10-27 18:40:32</th>\n",
       "      <td>-11.7</td>\n",
       "      <td>5.0</td>\n",
       "    </tr>\n",
       "    <tr>\n",
       "      <th>2019-10-27 18:40:31</th>\n",
       "      <td>2.7</td>\n",
       "      <td>5.5</td>\n",
       "    </tr>\n",
       "  </tbody>\n",
       "</table>\n",
       "</div>"
      ],
      "text/plain": [
       "                     Temperature  Humidity\n",
       "Timestamp                                 \n",
       "2019-10-27 18:40:35        -24.8       5.0\n",
       "2019-10-27 18:40:34        -28.9       7.2\n",
       "2019-10-27 18:40:33        -20.4       5.0\n",
       "2019-10-27 18:40:32        -11.7       5.0\n",
       "2019-10-27 18:40:31          2.7       5.5"
      ]
     },
     "execution_count": 135,
     "metadata": {},
     "output_type": "execute_result"
    }
   ],
   "source": [
    "df.head()"
   ]
  },
  {
   "cell_type": "code",
   "execution_count": 136,
   "metadata": {},
   "outputs": [],
   "source": [
    "sns.set(rc={'figure.figsize':(11,4)})"
   ]
  },
  {
   "cell_type": "code",
   "execution_count": 137,
   "metadata": {},
   "outputs": [
    {
     "data": {
      "text/plain": [
       "<matplotlib.axes._subplots.AxesSubplot at 0x7ff3662d5590>"
      ]
     },
     "execution_count": 137,
     "metadata": {},
     "output_type": "execute_result"
    },
    {
     "data": {
      "image/png": "[encoded data removed]",
      "text/plain": [
       "<Figure size 792x288 with 1 Axes>"
      ]
     },
     "metadata": {},
     "output_type": "display_data"
    }
   ],
   "source": [
    "df['Temperature'].plot(linewidth=0.5)"
   ]
  },
  {
   "cell_type": "code",
   "execution_count": 146,
   "metadata": {},
   "outputs": [
    {
     "data": {
      "image/png": "[encoded data removed]",
      "text/plain": [
       "<Figure size 1080x504 with 1 Axes>"
      ]
     },
     "metadata": {},
     "output_type": "display_data"
    }
   ],
   "source": [
    "plt.figure(figsize=(15, 7))\n",
    "plt.plot(df.Temperature)\n",
    "plt.title('Ads watched (hourly data)')\n",
    "plt.grid(True)\n",
    "plt.show()\n"
   ]
  },
  {
   "cell_type": "code",
   "execution_count": null,
   "metadata": {},
   "outputs": [],
   "source": []
  }
 ],
 "metadata": {
  "kernelspec": {
   "display_name": "Python 2",
   "language": "python",
   "name": "python2"
  },
  "language_info": {
   "codemirror_mode": {
    "name": "ipython",
    "version": 2
   },
   "file_extension": ".py",
   "mimetype": "text/x-python",
   "name": "python",
   "nbconvert_exporter": "python",
   "pygments_lexer": "ipython2",
   "version": "2.7.13"
  }
 },
 "nbformat": 4,
 "nbformat_minor": 2
}

{
 "cells": [
  {
   "cell_type": "code",
   "execution_count": 1,
   "metadata": {},
   "outputs": [],
   "source": [
    "import matplotlib.pyplot as plt\n",
    "from numpy.random import randint\n",
    "from numpy import linspace\n"
   ]
  },
  {
   "cell_type": "code",
   "execution_count": 2,
   "metadata": {},
   "outputs": [],
   "source": [
    "x_inicial = randint(10)\n",
    "\n"
   ]
  },
  {
   "cell_type": "code",
   "execution_count": 7,
   "metadata": {},
   "outputs": [
    {
     "data": {
      "text/plain": [
       "50"
      ]
     },
     "execution_count": 7,
     "metadata": {},
     "output_type": "execute_result"
    }
   ],
   "source": [
    "randint(97)"
   ]
  },
  {
   "cell_type": "code",
   "execution_count": 9,
   "metadata": {},
   "outputs": [],
   "source": [
    "alpha = 0.1\n",
    "n_iteraciones = 15\n",
    "\n",
    "iteraciones = []\n",
    "y = []\n",
    "\n",
    "x = x_inicial\n"
   ]
  },
  {
   "cell_type": "code",
   "execution_count": 10,
   "metadata": {},
   "outputs": [
    {
     "name": "stdout",
     "output_type": "stream",
     "text": [
      "------------------------\n",
      "iteración  1\n",
      "x =  1.6 , y =  3.5600000000000005\n",
      "------------------------\n",
      "iteración  2\n",
      "x =  1.28 , y =  2.6384\n",
      "------------------------\n",
      "iteración  3\n",
      "x =  1.024 , y =  2.0485759999999997\n",
      "------------------------\n",
      "iteración  4\n",
      "x =  0.8192 , y =  1.67108864\n",
      "------------------------\n",
      "iteración  5\n",
      "x =  0.65536 , y =  1.4294967296\n",
      "------------------------\n",
      "iteración  6\n",
      "x =  0.5242880000000001 , y =  1.2748779069440002\n",
      "------------------------\n",
      "iteración  7\n",
      "x =  0.4194304000000001 , y =  1.1759218604441601\n",
      "------------------------\n",
      "iteración  8\n",
      "x =  0.33554432000000006 , y =  1.1125899906842625\n",
      "------------------------\n",
      "iteración  9\n",
      "x =  0.26843545600000007 , y =  1.072057594037928\n",
      "------------------------\n",
      "iteración  10\n",
      "x =  0.21474836480000006 , y =  1.0461168601842739\n",
      "------------------------\n",
      "iteración  11\n",
      "x =  0.17179869184000005 , y =  1.0295147905179354\n",
      "------------------------\n",
      "iteración  12\n",
      "x =  0.13743895347200002 , y =  1.0188894659314787\n",
      "------------------------\n",
      "iteración  13\n",
      "x =  0.10995116277760002 , y =  1.0120892581961463\n",
      "------------------------\n",
      "iteración  14\n",
      "x =  0.08796093022208001 , y =  1.0077371252455336\n",
      "------------------------\n",
      "iteración  15\n",
      "x =  0.070368744177664 , y =  1.0049517601571416\n"
     ]
    }
   ],
   "source": [
    "for i in range(n_iteraciones):\n",
    "\tprint('------------------------')\n",
    "\tprint('iteración ', str(i+1))\n",
    "\n",
    "\t# Calcular gradiente\n",
    "\tgradiente = 2*x\n",
    "\n",
    "\t# Actualizar \"x\" usando gradiente descendente\n",
    "\tx = x - alpha*gradiente\n",
    "\n",
    "\t# Almacenar iteración y valor correspondiente\n",
    "\ty.append(x**2 + 1)\n",
    "\titeraciones.append(i+1)\n",
    "\n",
    "\t# Imprimir resultados\n",
    "\tprint('x = ', str(x), ', y = ', str(x**2+1))\n"
   ]
  },
  {
   "cell_type": "code",
   "execution_count": 13,
   "metadata": {},
   "outputs": [
    {
     "data": {
      "image/png": "[encoded data removed]",
      "text/plain": [
       "<Figure size 432x288 with 2 Axes>"
      ]
     },
     "metadata": {
      "needs_background": "light"
     },
     "output_type": "display_data"
    }
   ],
   "source": [
    "plt.subplot(1,2,1)\n",
    "plt.plot(iteraciones,y)\n",
    "plt.xlabel('Iteración')\n",
    "plt.ylabel('y')\n",
    "\n",
    "X = linspace(-5,5,100)\n",
    "Y = X**2 + 1\n",
    "plt.subplot(1,2,2)\n",
    "plt.plot(X,Y,0.0,1.0,'ro')\n",
    "plt.xlabel('x')\n",
    "plt.ylabel('y')\n",
    "\n",
    "plt.show()\n"
   ]
  },
  {
   "cell_type": "code",
   "execution_count": 14,
   "metadata": {},
   "outputs": [],
   "source": [
    "y=[3,4,7]"
   ]
  },
  {
   "cell_type": "code",
   "execution_count": 16,
   "metadata": {},
   "outputs": [
    {
     "ename": "AttributeError",
     "evalue": "'list' object has no attribute 'shape'",
     "output_type": "error",
     "traceback": [
      "\u001b[0;31m-----------------------------------------------------------------\u001b[0m",
      "\u001b[0;31mAttributeError\u001b[0m                  Traceback (most recent call last)",
      "\u001b[0;32m<ipython-input-16-d4fd96af9096>\u001b[0m in \u001b[0;36m<module>\u001b[0;34m\u001b[0m\n\u001b[0;32m----> 1\u001b[0;31m \u001b[0my\u001b[0m\u001b[0;34m.\u001b[0m\u001b[0mshape\u001b[0m\u001b[0;34m[\u001b[0m\u001b[0;36m0\u001b[0m\u001b[0;34m]\u001b[0m\u001b[0;34m\u001b[0m\u001b[0m\n\u001b[0m",
      "\u001b[0;31mAttributeError\u001b[0m: 'list' object has no attribute 'shape'"
     ]
    }
   ],
   "source": [
    "y.shape[0]"
   ]
  },
  {
   "cell_type": "code",
   "execution_count": 19,
   "metadata": {},
   "outputs": [],
   "source": [
    "import numpy as np\n",
    "np.random.seed(2)"
   ]
  },
  {
   "cell_type": "code",
   "execution_count": 23,
   "metadata": {},
   "outputs": [
    {
     "ename": "TypeError",
     "evalue": "'module' object is not callable",
     "output_type": "error",
     "traceback": [
      "\u001b[0;31m-----------------------------------------------------------------\u001b[0m",
      "\u001b[0;31mTypeError\u001b[0m                       Traceback (most recent call last)",
      "\u001b[0;32m<ipython-input-23-3443d20aed90>\u001b[0m in \u001b[0;36m<module>\u001b[0;34m\u001b[0m\n\u001b[0;32m----> 1\u001b[0;31m \u001b[0mprint\u001b[0m\u001b[0;34m(\u001b[0m\u001b[0mnp\u001b[0m\u001b[0;34m.\u001b[0m\u001b[0mrandom\u001b[0m\u001b[0;34m(\u001b[0m\u001b[0;36m9\u001b[0m\u001b[0;34m)\u001b[0m\u001b[0;34m)\u001b[0m\u001b[0;34m\u001b[0m\u001b[0m\n\u001b[0m",
      "\u001b[0;31mTypeError\u001b[0m: 'module' object is not callable"
     ]
    }
   ],
   "source": [
    "print(np.random(9)) "
   ]
  },
  {
   "cell_type": "code",
   "execution_count": null,
   "metadata": {},
   "outputs": [],
   "source": []
  },
  {
   "cell_type": "code",
   "execution_count": null,
   "metadata": {},
   "outputs": [],
   "source": []
  }
 ],
 "metadata": {
  "kernelspec": {
   "display_name": "Python 3",
   "language": "python",
   "name": "python3"
  },
  "language_info": {
   "codemirror_mode": {
    "name": "ipython",
    "version": 3
   },
   "file_extension": ".py",
   "mimetype": "text/x-python",
   "name": "python",
   "nbconvert_exporter": "python",
   "pygments_lexer": "ipython3",
   "version": "3.5.3"
  }
 },
 "nbformat": 4,
 "nbformat_minor": 2
}
